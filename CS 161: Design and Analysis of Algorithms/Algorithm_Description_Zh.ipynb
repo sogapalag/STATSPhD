{
 "cells": [
  {
   "cell_type": "markdown",
   "metadata": {},
   "source": [
    "[算法和数据结构复杂度, 和java实现](https://algs4.cs.princeton.edu/cheatsheet/)\n",
    "\n",
    "[算法实现，Python](https://github.com/TheAlgorithms/Python)"
   ]
  },
  {
   "cell_type": "markdown",
   "metadata": {},
   "source": [
    "## 定理\n",
    "\n",
    "- CLRS (master)定理：算复杂度的"
   ]
  },
  {
   "cell_type": "markdown",
   "metadata": {},
   "source": [
    "## 排序\n",
    "\n",
    "- 冒泡：\n",
    "  1. 相邻依次比较将大的换到最右边\n",
    " \n",
    " \n",
    "- 插入：\n",
    "  1. 左边已排序，对未排序的依次插入左边对应位置\n",
    "  \n",
    "\n",
    "- 快排：\n",
    "  1. （随机）挑pivot； \n",
    "  2. 小的大的各放一边；（若C/C++, 两端指针shrinkly判断交换）\n",
    "  3. 递归\n",
    "\n",
    "\n",
    "- 归并排序：\n",
    "  1. 分成左右两边，各自递归；\n",
    "  2. 将上述排序好的俩序列合并\n",
    "\n",
    "\n",
    "- 桶排序：（分布均匀时用）\n",
    "  1. 一遍历分到有序桶里；\n",
    "  2. 各桶里（插入）排序（C用链表）\n",
    "  \n",
    "\n",
    "- 基数排序：（Python扫一遍放链表；C第一遍记桶的大小存其cumsum，第二遍依据该值为放置坐标并减1）\n",
    "  1. 短的数左边补0齐至一样长度；\n",
    "  2. 从个位往高位迭代排序进桶里（每次一遍历）\n",
    "  \n",
    "  \n",
    "- 希尔排序：（定义k有序, $a_i\\leq a_{i+k}, \\forall i$；如何做：对$i\\in[k,n)$, 插入前面对应位置使得$[0,i]$位为k有序）\n",
    "  1. 选定步长序列，e.g.(13,7,3,1)\n",
    "  2. 依次做k有序\n",
    "  "
   ]
  },
  {
   "cell_type": "markdown",
   "metadata": {},
   "source": [
    "## 树\n",
    "\n",
    "\n",
    "- 二分查找树：对每个节点x, $x_{left}\\leq x \\leq x_{right}$\n",
    "  1. 中序遍历，递归版，$x_{left}, x, x_{right}$；\n",
    "  2. 先序遍历，递归版，$x, x_{left}, x_{right}$；\n",
    "  3. 后序遍历，递归版，$x_{left}, x_{right}， x$\n",
    "  \n",
    "  \n",
    "- 红黑树\n",
    "\n",
    "\n",
    "- AVL树\n",
    "\n",
    "\n",
    "- Trie"
   ]
  },
  {
   "cell_type": "markdown",
   "metadata": {},
   "source": [
    "## Hash\n",
    "\n",
    "- Hash表：\n",
    "  - Hash族：一些Hash函数的合集\n",
    "  - Universal Hash族：满足$\\forall u_i\\neq u_j\\in U$, s.t. $P_{h\\in H}(h(u_i)=h(u_j))\\leq 1/n$\n",
    "  - e.g. 选素数$p\\geq M$, 随机选$a,b\\in[p]$，$f_{a,b}(x)=ax+b \\mod p$（这一步肯定不会碰撞），然后再$h(x) = f(x) \\mod n$。这样相当于用$O(\\log M)$的Size存了$O(M^2)$个Hash函数。"
   ]
  },
  {
   "cell_type": "markdown",
   "metadata": {},
   "source": [
    "## 优先队列/堆\n",
    "\n",
    "- [各种堆的各操作bounds](https://en.wikipedia.org/wiki/Heap_(data_structure)#Comparison_of_theoretic_bounds_for_variants)"
   ]
  },
  {
   "cell_type": "markdown",
   "metadata": {},
   "source": [
    "## 图\n",
    "\n",
    "- DFS深度优先：\n",
    "  - 想象路径为DFS树，穷尽叶子才返回，（或想象进为'('，出为')'，是合法的括号列）常解决拓扑排序问题（e.g.依赖）\n",
    "  \n",
    "  \n",
    "- BFS广度优先：\n",
    "  - 按深度顺序访问，常解决最短路径问题；还可解决二分类/奇(长度)圈\n",
    "  \n",
    "\n",
    "- 强连通组件SCC：（SCCs构成DAG(有向无环图)）\n",
    "  1. DFS创建DFS森林，track结束即')'时间；\n",
    "  2. Reverse原图edges的方向\n",
    "  3. 以')'时间倒序DFS创建DFS森林，这些树即SCCs\n",
    "\n",
    "\n",
    "- Dijkstra：单源（非负权重）最短路径问题\n",
    "  1. $\\forall v\\in V, d[v]=\\infty$, $d[s]=0$，依据$d$维护$v$队列Q(Fibonacci堆)\n",
    "  2. Loop堆直至空：pop最小d, e.g. u（意味着u确定了）, 更新u的所有邻点$d[v]$，更新堆；（对每个点更新prev$[v]$可以返回路径）\n",
    "  \n",
    "  想象所有边为该权重长的绳子，拎着源点s慢慢往上，每当一个新的点off-ground即为上述更新过程，地面上的点即为堆Q，在空中的即为确定集S.\n",
    "  \n",
    "  \n",
    "- Bellman-Ford：稍慢，允许负权重，可以检测负环；正确性（$d^{(i)}$为i步内可达最短，归纳证明）\n",
    "  1. iter $i\\in[0, n-2]$\n",
    "  2. Loop $u\\in V$, 对其所有邻点$v$更新 $d^{(i+1)}[v] = \\min \\{ d^i[v], d^{(i+1)}[v], d^i[v] + w(u,v) \\}$\n",
    "    - 等价地, Loop $v$, 对其所有In邻，更新$d^{(+1)}v = \\min\\{ dv, \\min_{u\\in In} \\{du + w(u,v)\\}\\}$\n",
    "  3. 返回$d^{(n-1)}$。$i$增加额外一轮判断$d^{(n-1)}= d^{(n)}$可检测负环\n",
    "\n",
    "\n",
    "- Floyd-Warshall：全最短（all-pairs shortest paths）APSP，允许负权，可检测负环\n",
    "  - $D^k[u, v]$为u到v只从$\\{1,2,...,k\\}$其中经过的最短距离\n",
    "  - 规划关系 $D^{k}[u,v] = \\min\\{ D^{k-1}[u,v], D^{k-1}[u,k] + D^{k-1}[k, v]\\}$\n",
    "  - [算法细节](http://web.stanford.edu/class/cs161/Lectures/Lecture12/Lecture12-compressed.pdf#page=59)\n",
    "  \n",
    "  \n",
    "- Karger's：找全局最小割，fast，高概率\n",
    "  - 随机选edge，合并结点，直至剩下俩超结点，这时留下的边即最小割；repeat多次提升概率\n",
    "  - Karger-Stein，更快trick，不从头repeat，而从结点数为$n/\\sqrt{2,4,8,...}$分裂点repeat。"
   ]
  },
  {
   "cell_type": "markdown",
   "metadata": {},
   "source": [
    "## 动态规划DP\n",
    "\n",
    "- 子问题最优解可用于解决原问题最优\n",
    "- 子问题重叠（多次调用）\n",
    "- 满足上述性质用DP，利用一个表存子问题解，重点要找合适的子结构\n",
    "- [Recipe](http://web.stanford.edu/class/cs161/Lectures/Lecture13/Lecture13-compressed.pdf#page=41)\n",
    "\n",
    "- e.g. Fibonacci, Bellman-Ford, Floyd-Warshall\n",
    "\n",
    "\n",
    "- 最长共同子串：\n",
    "  - $C[i, j]$ 为子串$X_{~i}$和子串$Y_{~j}$的最长共同子串长\n",
    "  - 递推，分情况$X_i,Y_j$是否相同。\n",
    "  - [细节](http://web.stanford.edu/class/cs161/Lectures/Lecture13/Lecture13-compressed.pdf#page=21)；[只要长度，可略微调整](http://web.stanford.edu/class/cs161/Lectures/Lecture13/Lecture13-compressed.pdf#page=36)\n",
    "  \n",
    "  \n",
    "- 背包问题knapsacks：一些item, 权重$w_i$，价值$v_i$, 背包容量$C$。NP\n",
    "  - Unbounded，每种商品无限\n",
    "    - $K[x]:$容量为x时的optimum\n",
    "    - 递推，$K[x]=\\max_i K[x-w_i] + v_i$\n",
    "    - [细节，值](http://web.stanford.edu/class/cs161/Lectures/Lecture13/Lecture13-compressed.pdf#page=48), [Items](http://web.stanford.edu/class/cs161/Lectures/Lecture13/Lecture13-compressed.pdf#page=52)\n",
    "  - 0/1背包，每种商品1个\n",
    "    - $K[x,j]:$容量为x是within前j个items的optimum\n",
    "    - 递推，分第j个item是否取的情况\n",
    "    - [细节，值](http://web.stanford.edu/class/cs161/Lectures/Lecture13/Lecture13-compressed.pdf#page=78)\n",
    "    \n",
    "    \n",
    "- 独立集：图结点有value，选独立集（不相邻）使得value最大。NP-C\n",
    "  - 树结构\n",
    "    - 分是否含root结点情况， [细节](http://web.stanford.edu/class/cs161/Lectures/Lecture13/Lecture13-compressed.pdf#page=109)"
   ]
  },
  {
   "cell_type": "markdown",
   "metadata": {},
   "source": [
    "## 贪心\n",
    "\n",
    "- 一般要递归step证明没排除最优解\n",
    "\n",
    "- Activity Selection：任务i开始时间s_i, 结束时间e_i，使得做尽量多任务\n",
    "  - 按e_i排序，贪心选择最小\n",
    "  \n",
    "  \n",
    "- 调度：任务时长和delay cost\n",
    "  - [按ratio](http://web.stanford.edu/class/cs161/Lectures/Lecture14/Lecture14-compressed.pdf#page=50)\n",
    "  \n",
    "  \n",
    "- Huffman Coding:\n",
    "  - Prefix coding/tree，从频率最小往上建树；[细节](http://web.stanford.edu/class/cs161/Lectures/Lecture14/Lecture14-compressed.pdf#page=78)\n",
    "  \n",
    "  \n",
    "- 最小生成树MST：即连接所有点的树，且边权重和最小\n",
    "  - [lemma 可选cut上轻的加入](http://web.stanford.edu/class/cs161/Lectures/Lecture15/Lecture15-compressed.pdf#page=19)\n",
    "  - Prim's，每次加一个最短的连接树枝， [用红黑树O(mlogn)/Fibonacci堆O(m+nlogn)复杂度，Dijkstra相同](http://web.stanford.edu/class/cs161/Lectures/Lecture15/Lecture15-compressed.pdf#page=70)\n",
    "  - Kruskal's，每次选一个最短的边且不会构成环，数据结构Union-find\n"
   ]
  },
  {
   "cell_type": "code",
   "execution_count": null,
   "metadata": {},
   "outputs": [],
   "source": []
  }
 ],
 "metadata": {
  "kernelspec": {
   "display_name": "Python 3",
   "language": "python",
   "name": "python3"
  },
  "language_info": {
   "codemirror_mode": {
    "name": "ipython",
    "version": 3
   },
   "file_extension": ".py",
   "mimetype": "text/x-python",
   "name": "python",
   "nbconvert_exporter": "python",
   "pygments_lexer": "ipython3",
   "version": "3.7.2"
  }
 },
 "nbformat": 4,
 "nbformat_minor": 2
}
