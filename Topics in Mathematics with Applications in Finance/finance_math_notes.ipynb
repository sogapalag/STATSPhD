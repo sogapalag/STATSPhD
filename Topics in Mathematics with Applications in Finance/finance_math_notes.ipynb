{
 "cells": [
  {
   "cell_type": "markdown",
   "metadata": {},
   "source": [
    "## Brief_Notes\n",
    "\n",
    "mainly based on [MIT open course, 2013](https://ocw.mit.edu/courses/mathematics/18-s096-topics-in-mathematics-with-applications-in-finance-fall-2013/index.htm), 结合其它资源和已有理解，达到有insight的理解"
   ]
  },
  {
   "cell_type": "markdown",
   "metadata": {},
   "source": [
    "#### basic knowledge of financial markets and quantitative analysis\n",
    "\n",
    "[some insight meaning](https://ocw.mit.edu/courses/mathematics/18-s096-topics-in-mathematics-with-applications-in-finance-fall-2013/related-resources/)\n",
    "\n",
    "alpha, beta; 扣除无风险利率，$r=\\alpha + \\beta r_b$， $r_b$为benchmark, e.g. S\\&P500，故beta即风险杠杆，alpha为超额收益\n",
    "\n",
    "bond（debt）, yield, duration; bond可以看作一个需要（卖方，borrower）支付(coupon)收益和到期交还本金的协议，yield是基于当前价格与未来平衡了的收益率，duration是bond相对yield的一阶导(sensitivity)；注意量纲，bond \\\\$, yield \\\\$/t，duration t。\n",
    "\n",
    "VaR; prob loss exceed some proportion based on past stats., old-fashion?"
   ]
  },
  {
   "cell_type": "markdown",
   "metadata": {},
   "source": [
    "#### Linear Algebra\n",
    "\n",
    "recall L.A.(MATH113) notes"
   ]
  },
  {
   "cell_type": "markdown",
   "metadata": {},
   "source": [
    "#### Probability\n",
    "\n",
    "recall prob(STATS116,310) notes"
   ]
  },
  {
   "cell_type": "markdown",
   "metadata": {},
   "source": [
    "#### TIme Series\n",
    "\n",
    "ARMA(p,q), $\\phi(B)x_t = \\theta(B) w_t$; B: Backshift $(t-1)$\n",
    "\\begin{align}\n",
    "\t\\phi(z) = 1 -\\phi_1 z - \\dots - \\phi_p z^p, \\phi_p\\neq 0\\\\\n",
    "\t\\theta(z) = 1 + \\theta_1 z + \\dots + \\theta_q z^q, \\theta_q \\neq 0\n",
    "\\end{align}\n",
    "\n",
    "ARIMA(p,d,q), 先作差分$\\triangle ^d x_t$; $\\triangle = 1-B$.\n",
    "\n",
    "criterior, AIC, BIC, HQC: TODO\n",
    "\n",
    "Dickey-Fuller (DF) Test: Stationary测试, TODO\n",
    "\n",
    "Volatility\n",
    "  - GARCH(p,q), $z_t \\sim N(0,1)$, 收益率$r_t = \\sigma_t z_t$满足martingale；看作noise$w_t$的话，$\\sigma_t^2$可看作ARMA(p,q). i.e.\n",
    "\\begin{align}\n",
    "  \\sigma_t^2 = \\alpha_0 +\\sum_{i=1}^q \\alpha_i r_{t-i}^2 + \\sum_{j=1}^p \\beta_j \\sigma_{t-j}^2\n",
    "\\end{align}"
   ]
  },
  {
   "cell_type": "markdown",
   "metadata": {},
   "source": [
    "#### Ito's, B-S\n",
    "\n",
    "由布朗运动蕴涵$(dB_t)^2 = dt$，对$F(B_t)$作泰勒展开忽略高阶项可得\n",
    "  - Ito's lemma: $dF = F'dB + \\frac{1}{2} F'' dt$\n",
    "  - Ito's lemma: for $F(t, X_t)$, with $dX_t = \\mu_t dt + \\sigma_t dB_t$\n",
    "  \\begin{align}\n",
    "    dF = (\\frac{\\partial F}{\\partial t} + \\mu_t \\frac{\\partial F}{\\partial x} + \\frac{\\sigma_t^2}{2} \\frac{\\partial^2 F}{\\partial x^2})dt + \\sigma_t \\frac{\\partial F}{\\partial x} dB_t\n",
    "  \\end{align}\n",
    "  \n",
    "log-normal dynamics assumption, $dS = \\mu Sdt + \\sigma S dW$，直觉上即变化率$dS/S$随时间漂移速度$\\mu$，noise波动率$\\sigma$；\n",
    "  -  consider change of portfolio\n",
    "    \\begin{align}\n",
    "      d\\Pi &= dV(S,t) - \\triangle dS  \\\\\n",
    "        &= (\\frac{\\partial V}{\\partial t} + \\frac{\\sigma^2 S^2}{2} \\frac{\\partial^2 V}{\\partial S^2}) dt + (\\frac{\\partial V}{\\partial S} - \\triangle) dS\n",
    "    \\end{align}\n",
    "  - that take $\\triangle = \\frac{\\partial V}{\\partial S}$, called delta hedging, which elinminate randomness\n",
    "  - 令收益与无风险收益相等，即$d \\Pi = r\\Pi dt$， 结合$\\Pi = V - \\frac{\\partial V}{\\partial S} S$ 代入上式\n",
    "  - 得Black-Scholes' Formula\n",
    "    \\begin{align}\n",
    "      \\frac{\\partial V}{\\partial t} + \\frac{\\sigma^2 S^2}{2} \\frac{\\partial^2 V}{\\partial S^2}\n",
    "        + rS \\frac{\\partial V}{\\partial S}  - rV = 0\n",
    "    \\end{align}\n",
    "  - solve, heat equation; TODO"
   ]
  },
  {
   "cell_type": "code",
   "execution_count": null,
   "metadata": {},
   "outputs": [],
   "source": []
  }
 ],
 "metadata": {
  "kernelspec": {
   "display_name": "Python 3",
   "language": "python",
   "name": "python3"
  },
  "language_info": {
   "codemirror_mode": {
    "name": "ipython",
    "version": 3
   },
   "file_extension": ".py",
   "mimetype": "text/x-python",
   "name": "python",
   "nbconvert_exporter": "python",
   "pygments_lexer": "ipython3",
   "version": "3.7.2"
  }
 },
 "nbformat": 4,
 "nbformat_minor": 2
}
